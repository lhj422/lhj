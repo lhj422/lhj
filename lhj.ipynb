{
 "cells": [
  {
   "cell_type": "code",
   "execution_count": 8,
   "id": "9cca9b46-89e0-48ec-a893-b9d1a3e97871",
   "metadata": {},
   "outputs": [
    {
     "name": "stdout",
     "output_type": "stream",
     "text": [
      "VideoObject(id='63581732175474215-9221303030355497271', model='cogvideox', video_result=None, task_status='PROCESSING', request_id='-9221303030355497272')\n"
     ]
    }
   ],
   "source": [
    "from zhipuai import ZhipuAI\n",
    "client = ZhipuAI(api_key=\"8b63cef0d64cef066432d1d740ffa5cd.i0Ncf2NEtbLq0TW5\")\n",
    "\n",
    "response=client.videos.generations(\n",
    "   model=\"cogvideox\",\n",
    "   prompt=\"制作一段视频，展示动物呼吸作用，包括动画和科学图表。\"\n",
    ")\n",
    "print(response)"
   ]
  },
  {
   "cell_type": "code",
   "execution_count": 10,
   "id": "66e83bc7-2f98-4e0f-9246-9fab9b30571c",
   "metadata": {},
   "outputs": [
    {
     "name": "stdout",
     "output_type": "stream",
     "text": [
      "VideoObject(id=None, model='cogvideox', video_result=[VideoResult(url='https://aigc-files.bigmodel.cn/api/cogvideo/5c2a473c-a7df-11ef-bd78-9ee7942420ea_0.mp4', cover_image_url='https://aigc-files.bigmodel.cn/api/cogvideo/5c2a473c-a7df-11ef-bd78-9ee7942420ea_cover_0.jpeg')], task_status='SUCCESS', request_id='-9221303030355497272')\n"
     ]
    }
   ],
   "source": [
    "from zhipuai import ZhipuAI\n",
    "client = ZhipuAI(api_key=\"8b63cef0d64cef066432d1d740ffa5cd.i0Ncf2NEtbLq0TW5\")\n",
    "\n",
    "response = client.videos.retrieve_videos_result(\n",
    "    id=\"63581732175474215-9221303030355497271\"\n",
    ")\n",
    "print(response)"
   ]
  },
  {
   "cell_type": "code",
   "execution_count": null,
   "id": "6cafa9ed-784e-456f-901b-6ff0b88c3cd0",
   "metadata": {},
   "outputs": [],
   "source": []
  }
 ],
 "metadata": {
  "kernelspec": {
   "display_name": "Python 3 (ipykernel)",
   "language": "python",
   "name": "python3"
  },
  "language_info": {
   "codemirror_mode": {
    "name": "ipython",
    "version": 3
   },
   "file_extension": ".py",
   "mimetype": "text/x-python",
   "name": "python",
   "nbconvert_exporter": "python",
   "pygments_lexer": "ipython3",
   "version": "3.9.13"
  }
 },
 "nbformat": 4,
 "nbformat_minor": 5
}
