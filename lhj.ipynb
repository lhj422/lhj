{
 "cells": [
  {
   "cell_type": "code",
   "execution_count": 1,
   "id": "ea68a447-63ea-4d4d-b7e1-4c2d263d7d06",
   "metadata": {},
   "outputs": [],
   "source": [
    "import os\n",
    "from zhipuai import ZhipuAI\n",
    "import base64\n",
    "\n",
    "os.environ[\"ZHIPUAI_API_KEY\"] = \"8b63cef0d64cef066432d1d740ffa5cd.i0Ncf2NEtbLq0TW5\"\n",
    "\n",
    "client =  ZhipuAI()"
   ]
  },
  {
   "cell_type": "code",
   "execution_count": null,
   "id": "607e978a-96b8-4b80-b5c5-9867111febba",
   "metadata": {},
   "outputs": [
    {
     "name": "stdout",
     "output_type": "stream",
     "text": [
      "通常来说，视频理解的响应时间较长，需要等待数十秒......\n"
     ]
    }
   ],
   "source": [
    "video_path = \"D:1152874823.mp4\"\n",
    "with open(video_path, 'rb') as video_file:\n",
    "     video_base = base64.b64encode(video_file.read()).decode('utf-8') \n",
    "\n",
    "print(\"通常来说，视频理解的响应时间较长，需要等待数十秒......\")\n",
    "\n",
    "response = client.chat.completions.create(\n",
    "   model=\"glm-4v-plus\",\n",
    "   temperature=0.0,\n",
    "   top_p=0,\n",
    "\n",
    "   messages=[{\n",
    "      \"role\":\"user\",\n",
    "      \"content\":[{\n",
    "         \"type\":\"video_url\",\n",
    "         \"video_url\" : {\"url\" : video_base}\n",
    "      },{\n",
    "      \"type\":\"text\",\n",
    "      \"text\":\"请仔细描述这个视频的环境，以有趣的方式讲给我听\"\n",
    "      }]\n",
    "   }])\n",
    "print(response.choices[0].message)"
   ]
  },
  {
   "cell_type": "code",
   "execution_count": null,
   "id": "14beb287-cb6f-43f0-ab81-65a5367172ba",
   "metadata": {},
   "outputs": [],
   "source": []
  }
 ],
 "metadata": {
  "kernelspec": {
   "display_name": "Python 3 (ipykernel)",
   "language": "python",
   "name": "python3"
  },
  "language_info": {
   "codemirror_mode": {
    "name": "ipython",
    "version": 3
   },
   "file_extension": ".py",
   "mimetype": "text/x-python",
   "name": "python",
   "nbconvert_exporter": "python",
   "pygments_lexer": "ipython3",
   "version": "3.9.13"
  }
 },
 "nbformat": 4,
 "nbformat_minor": 5
}
